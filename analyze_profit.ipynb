{
 "cells": [
  {
   "cell_type": "code",
   "execution_count": 1,
   "metadata": {},
   "outputs": [
    {
     "name": "stdout",
     "output_type": "stream",
     "text": [
      "profit: 1800\n",
      "above_mean: True\n"
     ]
    }
   ],
   "source": [
    "def analyze_profit(gains,expenses):\n",
    "    profit = gains - expenses\n",
    "    after_taxes = 0.90 * profit\n",
    "    above_mean = profit > 1000\n",
    "    return profit, after_taxes, above_mean\n",
    "\n",
    "insights = analyze_profit(3000,1200)\n",
    "print(f\"profit: {insights[0]}\")\n",
    "print(f\"above_mean: {insights[2]}\")"
   ]
  }
 ],
 "metadata": {
  "kernelspec": {
   "display_name": "base",
   "language": "python",
   "name": "python3"
  },
  "language_info": {
   "codemirror_mode": {
    "name": "ipython",
    "version": 3
   },
   "file_extension": ".py",
   "mimetype": "text/x-python",
   "name": "python",
   "nbconvert_exporter": "python",
   "pygments_lexer": "ipython3",
   "version": "3.9.13"
  },
  "orig_nbformat": 4,
  "vscode": {
   "interpreter": {
    "hash": "ca8ba4863bb9a55bc0fb1c66d7752777582cbc098f0764f347d1f8cde5fb9cb7"
   }
  }
 },
 "nbformat": 4,
 "nbformat_minor": 2
}
